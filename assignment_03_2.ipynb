{
  "cells": [
    {
      "cell_type": "markdown",
      "metadata": {
        "id": "view-in-github",
        "colab_type": "text"
      },
      "source": [
        "<a href=\"https://colab.research.google.com/github/Yang-Hyun-Jun/Machine-Learning-2022/blob/master/assignment_03_2.ipynb\" target=\"_parent\"><img src=\"https://colab.research.google.com/assets/colab-badge.svg\" alt=\"Open In Colab\"/></a>"
      ]
    },
    {
      "cell_type": "markdown",
      "metadata": {
        "id": "7waPfKtQ7aEf"
      },
      "source": [
        "# Taylor approximation"
      ]
    },
    {
      "cell_type": "markdown",
      "metadata": {
        "id": "jbJ8r7pj7aEj"
      },
      "source": [
        "## import library"
      ]
    },
    {
      "cell_type": "code",
      "execution_count": 3,
      "metadata": {
        "id": "coA7sjgY7aEj"
      },
      "outputs": [],
      "source": [
        "import numpy as np\n",
        "import matplotlib.image as img\n",
        "import matplotlib.pyplot as plt\n",
        "from matplotlib import cm\n",
        "import matplotlib.colors as colors"
      ]
    },
    {
      "cell_type": "markdown",
      "metadata": {
        "id": "haieeOJp7aEl"
      },
      "source": [
        "## define a function $f(x) = cos(x)$"
      ]
    },
    {
      "cell_type": "code",
      "execution_count": 5,
      "metadata": {
        "id": "_nAy82Z77aEl"
      },
      "outputs": [],
      "source": [
        "def function(x):\n",
        "    \n",
        "    # ++++++++++++++++++++++++++++++++++++++++++++++++++\n",
        "    # complete the blanks\n",
        "    #\n",
        "    y = np.cos(x)\n",
        "    #\n",
        "    # ++++++++++++++++++++++++++++++++++++++++++++++++++\n",
        "    \n",
        "    return y "
      ]
    },
    {
      "cell_type": "markdown",
      "metadata": {
        "id": "NJszATZE7aEm"
      },
      "source": [
        "## define the derivative $f'(x)$ of function $f(x)$"
      ]
    },
    {
      "cell_type": "code",
      "execution_count": 11,
      "metadata": {
        "id": "5N2Bx8ql7aEm"
      },
      "outputs": [],
      "source": [
        "def derivative_function(x):\n",
        "    \n",
        "    # ++++++++++++++++++++++++++++++++++++++++++++++++++\n",
        "    # complete the blanks\n",
        "    h = 1e-4\n",
        "    y_prime = (function(x + h) - function(x - h)) / (2 * h)\n",
        "    #\n",
        "    # ++++++++++++++++++++++++++++++++++++++++++++++++++\n",
        "    \n",
        "    return y_prime"
      ]
    },
    {
      "cell_type": "markdown",
      "metadata": {
        "id": "Ge7asGF07aEn"
      },
      "source": [
        "## define the first order Taylor approxation of the function at $x_0$\n",
        "- $\\hat{f}(x) = f(x_0) + f'(x_0)(x - x_0)$"
      ]
    },
    {
      "cell_type": "code",
      "execution_count": 10,
      "metadata": {
        "id": "DND8uOFt7aEo"
      },
      "outputs": [],
      "source": [
        "def approximate_function(x, x0):\n",
        "\n",
        "    # ++++++++++++++++++++++++++++++++++++++++++++++++++\n",
        "    # complete the blanks\n",
        "    #\n",
        "    y_hat = function(x0) + derivative_function(x0)*(x-x0)\n",
        "    #\n",
        "    # ++++++++++++++++++++++++++++++++++++++++++++++++++\n",
        "\n",
        "    return y_hat"
      ]
    },
    {
      "cell_type": "markdown",
      "metadata": {
        "id": "__IgT3Xl7aEo"
      },
      "source": [
        "___"
      ]
    },
    {
      "cell_type": "markdown",
      "metadata": {
        "id": "hC0ALyDY7aEp"
      },
      "source": [
        "___"
      ]
    },
    {
      "cell_type": "markdown",
      "metadata": {
        "id": "IGGNfhpp7aEp"
      },
      "source": [
        "## functions for presenting the results"
      ]
    },
    {
      "cell_type": "markdown",
      "metadata": {
        "id": "GoQpkP--7aEp"
      },
      "source": [
        "___"
      ]
    },
    {
      "cell_type": "markdown",
      "metadata": {
        "id": "1eTFU_sj7aEq"
      },
      "source": [
        "___"
      ]
    },
    {
      "cell_type": "code",
      "execution_count": 12,
      "metadata": {
        "id": "udoPh-_k7aEq"
      },
      "outputs": [],
      "source": [
        "def function_result_01():\n",
        "    \n",
        "    x = np.linspace(-10, 10, 100)\n",
        "    y = function(x)\n",
        "\n",
        "    plt.figure(figsize=(8,6))\n",
        "    plt.plot(x, y, 'b')\n",
        "    plt.xlim([-10, 10])\n",
        "    plt.ylim([-10, 10])\n",
        "    plt.show()"
      ]
    },
    {
      "cell_type": "code",
      "execution_count": 13,
      "metadata": {
        "id": "72hU9IGA7aEq"
      },
      "outputs": [],
      "source": [
        "def function_result_02():\n",
        "    \n",
        "    x       = np.linspace(-10, 10, 100)\n",
        "    y_prime = derivative_function(x)\n",
        "\n",
        "    plt.figure(figsize=(8,6))\n",
        "    plt.plot(x, y_prime, 'r')\n",
        "    plt.xlim([-10, 10])\n",
        "    plt.ylim([-10, 10])\n",
        "    plt.show()"
      ]
    },
    {
      "cell_type": "code",
      "execution_count": 14,
      "metadata": {
        "id": "YJ-fo9zR7aEr"
      },
      "outputs": [],
      "source": [
        "def function_result_03():\n",
        "    \n",
        "    x = np.linspace(-10, 10, 100)\n",
        "    y = function(x)\n",
        "\n",
        "    x0      = 1\n",
        "    y0      = function(x0)      \n",
        "    y_hat   = approximate_function(x, x0)\n",
        "\n",
        "    plt.figure(figsize=(8,6))\n",
        "    plt.plot(x, y, 'b')\n",
        "    plt.plot(x, y_hat, 'r')\n",
        "    plt.plot(x0, y0, 'go')\n",
        "    plt.xlim([-10, 10])\n",
        "    plt.ylim([-10, 10])\n",
        "    plt.show()"
      ]
    },
    {
      "cell_type": "code",
      "execution_count": 15,
      "metadata": {
        "id": "TJN0xdir7aEr"
      },
      "outputs": [],
      "source": [
        "def function_result_04():\n",
        "\n",
        "    x1      = -1\n",
        "    x2      = 1\n",
        "    value1  = function(x1)\n",
        "    value2  = function(x2)\n",
        "    \n",
        "    print('value1 = ', value1)\n",
        "    print('value2 = ', value2)"
      ]
    },
    {
      "cell_type": "code",
      "execution_count": 16,
      "metadata": {
        "id": "PXlIv3yc7aEs"
      },
      "outputs": [],
      "source": [
        "def function_result_05():\n",
        "\n",
        "    x1      = -1\n",
        "    x2      = 1\n",
        "    value1  = derivative_function(x1)\n",
        "    value2  = derivative_function(x2)\n",
        "    \n",
        "    print('value1 = ', value1)\n",
        "    print('value2 = ', value2)"
      ]
    },
    {
      "cell_type": "markdown",
      "metadata": {
        "id": "71ajQfm67aEs"
      },
      "source": [
        "___"
      ]
    },
    {
      "cell_type": "markdown",
      "metadata": {
        "id": "nwSHwnVE7aEs"
      },
      "source": [
        "___"
      ]
    },
    {
      "cell_type": "markdown",
      "metadata": {
        "id": "H1J2nTjt7aEs"
      },
      "source": [
        "# results"
      ]
    },
    {
      "cell_type": "markdown",
      "metadata": {
        "id": "ZmNdW3L07aEs"
      },
      "source": [
        "___"
      ]
    },
    {
      "cell_type": "markdown",
      "metadata": {
        "id": "5wWJzhOX7aEt"
      },
      "source": [
        "___"
      ]
    },
    {
      "cell_type": "code",
      "execution_count": 17,
      "metadata": {
        "colab": {
          "base_uri": "https://localhost:8080/",
          "height": 1000
        },
        "id": "pMONe8fh7aEt",
        "outputId": "7387918f-b719-4baa-e08c-615c0c670e03"
      },
      "outputs": [
        {
          "output_type": "stream",
          "name": "stdout",
          "text": [
            "**************************************************\n",
            "## [RESULT 01]\n",
            "**************************************************\n"
          ]
        },
        {
          "output_type": "display_data",
          "data": {
            "text/plain": [
              "<Figure size 576x432 with 1 Axes>"
            ],
            "image/png": "[encoded data removed]"
          },
          "metadata": {
            "needs_background": "light"
          }
        },
        {
          "output_type": "stream",
          "name": "stdout",
          "text": [
            "**************************************************\n",
            "## [RESULT 02]\n",
            "**************************************************\n"
          ]
        },
        {
          "output_type": "display_data",
          "data": {
            "text/plain": [
              "<Figure size 576x432 with 1 Axes>"
            ],
            "image/png": "[encoded data removed]"
          },
          "metadata": {
            "needs_background": "light"
          }
        },
        {
          "output_type": "stream",
          "name": "stdout",
          "text": [
            "**************************************************\n",
            "## [RESULT 03]\n",
            "**************************************************\n"
          ]
        },
        {
          "output_type": "display_data",
          "data": {
            "text/plain": [
              "<Figure size 576x432 with 1 Axes>"
            ],
            "image/png": "[encoded data removed]"
          },
          "metadata": {
            "needs_background": "light"
          }
        },
        {
          "output_type": "stream",
          "name": "stdout",
          "text": [
            "**************************************************\n",
            "## [RESULT 04]\n",
            "**************************************************\n",
            "value1 =  0.5403023058681398\n",
            "value2 =  0.5403023058681398\n",
            "**************************************************\n",
            "## [RESULT 05]\n",
            "**************************************************\n",
            "value1 =  0.841470983405368\n",
            "value2 =  -0.841470983405368\n"
          ]
        }
      ],
      "source": [
        "number_result = 5 \n",
        "\n",
        "for i in range(number_result):\n",
        "    title = '## [RESULT {:02d}]'.format(i+1)\n",
        "    name_function = 'function_result_{:02d}()'.format(i+1)\n",
        "\n",
        "    print('**************************************************')\n",
        "    print(title)\n",
        "    print('**************************************************')\n",
        "    eval(name_function)"
      ]
    },
    {
      "cell_type": "code",
      "execution_count": null,
      "metadata": {
        "id": "ZMRtJKTT7aEt"
      },
      "outputs": [],
      "source": [
        ""
      ]
    }
  ],
  "metadata": {
    "kernelspec": {
      "display_name": "Python 3",
      "language": "python",
      "name": "python3"
    },
    "language_info": {
      "codemirror_mode": {
        "name": "ipython",
        "version": 3
      },
      "file_extension": ".py",
      "mimetype": "text/x-python",
      "name": "python",
      "nbconvert_exporter": "python",
      "pygments_lexer": "ipython3",
      "version": "3.8.8"
    },
    "colab": {
      "name": "assignment_03_2.ipynb",
      "provenance": [],
      "include_colab_link": true
    }
  },
  "nbformat": 4,
  "nbformat_minor": 0
}