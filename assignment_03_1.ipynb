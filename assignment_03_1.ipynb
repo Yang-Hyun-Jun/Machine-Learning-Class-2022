{
  "cells": [
    {
      "cell_type": "markdown",
      "metadata": {
        "id": "view-in-github",
        "colab_type": "text"
      },
      "source": [
        "<a href=\"https://colab.research.google.com/github/Yang-Hyun-Jun/Machine-Learning-2022/blob/master/assignment_03_1.ipynb\" target=\"_parent\"><img src=\"https://colab.research.google.com/assets/colab-badge.svg\" alt=\"Open In Colab\"/></a>"
      ]
    },
    {
      "cell_type": "markdown",
      "metadata": {
        "id": "oJ73RDYRqBv7"
      },
      "source": [
        "# Gradient of Image"
      ]
    },
    {
      "cell_type": "markdown",
      "metadata": {
        "id": "RS4ef8_XqBwC"
      },
      "source": [
        "## import library"
      ]
    },
    {
      "cell_type": "code",
      "execution_count": 1,
      "metadata": {
        "id": "c0JLODoHqBwC"
      },
      "outputs": [],
      "source": [
        "import numpy as np\n",
        "import matplotlib.image as img\n",
        "import matplotlib.pyplot as plt\n",
        "from matplotlib import cm\n",
        "import matplotlib.colors as colors"
      ]
    },
    {
      "cell_type": "markdown",
      "metadata": {
        "id": "kY_b-KPqqBwG"
      },
      "source": [
        "## load input image ('test.jpeg')"
      ]
    },
    {
      "cell_type": "code",
      "execution_count": 4,
      "metadata": {
        "colab": {
          "base_uri": "https://localhost:8080/"
        },
        "id": "8D-yN8MsqBwH",
        "outputId": "4a462847-709b-417e-a2ef-993a858ff211"
      },
      "outputs": [
        {
          "output_type": "stream",
          "name": "stdout",
          "text": [
            "(510, 512, 3)\n"
          ]
        }
      ],
      "source": [
        "I0 = img.imread('test.jpeg')\n",
        "print(I0.shape)"
      ]
    },
    {
      "cell_type": "markdown",
      "metadata": {
        "id": "llv1UGLvqBwH"
      },
      "source": [
        "## check the size of the input image"
      ]
    },
    {
      "cell_type": "code",
      "execution_count": 5,
      "metadata": {
        "colab": {
          "base_uri": "https://localhost:8080/"
        },
        "id": "IMEhAa-DqBwI",
        "outputId": "1714f64b-b6ca-4554-d825-4eaf4bd85e0b"
      },
      "outputs": [
        {
          "output_type": "stream",
          "name": "stdout",
          "text": [
            "number of rows of I0 =  512\n",
            "number of columns of I0 =  512\n",
            "number of channels of I0 =  3\n"
          ]
        }
      ],
      "source": [
        "# ++++++++++++++++++++++++++++++++++++++++++++++++++\n",
        "# complete the blanks\n",
        "#\n",
        "num_row     = 512\n",
        "num_column  = 512\n",
        "num_channel = 3\n",
        "#\n",
        "# ++++++++++++++++++++++++++++++++++++++++++++++++++\n",
        "\n",
        "print('number of rows of I0 = ', num_row)\n",
        "print('number of columns of I0 = ', num_column)\n",
        "print('number of channels of I0 = ', num_channel)"
      ]
    },
    {
      "cell_type": "markdown",
      "metadata": {
        "id": "r_si2nsuqBwJ"
      },
      "source": [
        "## convert the color image into a grey image\n",
        "- take the average of the input image with 3 channels with respect to the channels into an image with 1 channel"
      ]
    },
    {
      "cell_type": "code",
      "execution_count": 11,
      "metadata": {
        "colab": {
          "base_uri": "https://localhost:8080/"
        },
        "id": "NO1MfcxVqBwK",
        "outputId": "9818b1d8-fc1b-473b-cbde-c52e92fd4d8b"
      },
      "outputs": [
        {
          "output_type": "stream",
          "name": "stdout",
          "text": [
            "number of rows of I =  512\n",
            "number of columns of I =  512\n"
          ]
        }
      ],
      "source": [
        "# ++++++++++++++++++++++++++++++++++++++++++++++++++\n",
        "# complete the blanks\n",
        "#\n",
        "\n",
        "I = I0.mean(axis=-1)\n",
        "    \n",
        "    \n",
        "num_row     = 512\n",
        "num_column  = 512\n",
        "#\n",
        "# ++++++++++++++++++++++++++++++++++++++++++++++++++\n",
        "\n",
        "print('number of rows of I = ', num_row)\n",
        "print('number of columns of I = ', num_column)"
      ]
    },
    {
      "cell_type": "markdown",
      "metadata": {
        "id": "CF2rLlx3qBwL"
      },
      "source": [
        "## normalize the converted image\n",
        "- normalize the converted grey scale image so that its maximum value is 1 and its minimum value is 0"
      ]
    },
    {
      "cell_type": "code",
      "execution_count": 18,
      "metadata": {
        "colab": {
          "base_uri": "https://localhost:8080/"
        },
        "id": "SSkxehHoqBwL",
        "outputId": "6ece4500-337a-467f-b8aa-d5e0cc9d0738"
      },
      "outputs": [
        {
          "output_type": "stream",
          "name": "stdout",
          "text": [
            "maximum value of I =  1.0\n",
            "minimum value of I =  0.0\n"
          ]
        }
      ],
      "source": [
        "# ++++++++++++++++++++++++++++++++++++++++++++++++++\n",
        "# complete the blanks\n",
        "#\n",
        "\n",
        "I = (I-I.min())/(I.max()-I.min())\n",
        "\n",
        "#\n",
        "# ++++++++++++++++++++++++++++++++++++++++++++++++++\n",
        "\n",
        "print('maximum value of I = ', np.max(I))\n",
        "print('minimum value of I = ', np.min(I))"
      ]
    },
    {
      "cell_type": "markdown",
      "metadata": {
        "id": "MmIGe0sAqBwM"
      },
      "source": [
        "## define a function to compute the derivative of input matrix in x(row)-direction"
      ]
    },
    {
      "cell_type": "markdown",
      "metadata": {
        "id": "nKmyN7yvqBwM"
      },
      "source": [
        "- forward difference : $ I[x+1, y] - I[x, y] $ "
      ]
    },
    {
      "cell_type": "code",
      "execution_count": 29,
      "metadata": {
        "id": "2vcAp7ECqBwN"
      },
      "outputs": [],
      "source": [
        "def compute_derivative_x_forward(I):\n",
        "    \n",
        "    D = np.zeros(I.shape)\n",
        "    \n",
        "    # ++++++++++++++++++++++++++++++++++++++++++++++++++\n",
        "    # complete the blanks\n",
        "    for x in range(I.shape[0]-1):\n",
        "      for y in range(I.shape[1]):\n",
        "        D[x, y] = I[x+1, y] - I[x, y]\n",
        "\n",
        "    #Boundary condition에 의해 D[-1, y] = 0\n",
        "    # ++++++++++++++++++++++++++++++++++++++++++++++++++\n",
        "    \n",
        "    return D"
      ]
    },
    {
      "cell_type": "markdown",
      "metadata": {
        "id": "RcKATQSRqBwR"
      },
      "source": [
        "- backward difference : $ I[x, y] - I[x-1, y] $ "
      ]
    },
    {
      "cell_type": "code",
      "execution_count": 30,
      "metadata": {
        "id": "TPVCpggUqBwS"
      },
      "outputs": [],
      "source": [
        "def compute_derivative_x_backward(I):\n",
        "    \n",
        "    D = np.zeros(I.shape)\n",
        "    \n",
        "    # ++++++++++++++++++++++++++++++++++++++++++++++++++\n",
        "    # complete the blanks\n",
        "    for x in range(1, I.shape[0]):\n",
        "      for y in range(I.shape[1]):\n",
        "        D[x, y] = I[x, y] - I[x-1, y]\n",
        "    \n",
        "    #Boundary condition에 의해 D[0, y] = 0\n",
        "    # ++++++++++++++++++++++++++++++++++++++++++++++++++\n",
        "    \n",
        "    return D"
      ]
    },
    {
      "cell_type": "markdown",
      "metadata": {
        "id": "pgY4oAhZqBwT"
      },
      "source": [
        "- central difference : $ \\frac{1}{2} \\left( I[x+1, y] - I[x-1, y] \\right)$ "
      ]
    },
    {
      "cell_type": "code",
      "execution_count": 31,
      "metadata": {
        "id": "-RAtEobHqBwT"
      },
      "outputs": [],
      "source": [
        "def compute_derivative_x_central(I):\n",
        "    \n",
        "    D = np.zeros(I.shape)\n",
        "    \n",
        "    # ++++++++++++++++++++++++++++++++++++++++++++++++++\n",
        "    # complete the blanks\n",
        "    for x in range(1, I.shape[0]-1):\n",
        "      for y in range(I.shape[1]):\n",
        "        D[x, y] = (I[x+1, y] - I[x-1, y])/2\n",
        "\n",
        "    #Boundary condition에 의해 D[0, y] = D[-1, y] = 0\n",
        "    # ++++++++++++++++++++++++++++++++++++++++++++++++++\n",
        "    \n",
        "    return D"
      ]
    },
    {
      "cell_type": "markdown",
      "metadata": {
        "id": "4IQlODUXqBwT"
      },
      "source": [
        "## define a function to compute the derivative of input matrix in y(column)-direction"
      ]
    },
    {
      "cell_type": "markdown",
      "metadata": {
        "id": "LOLBjqY3qBwU"
      },
      "source": [
        "- forward difference : $ I[x, y+1] - I[x, y] $ "
      ]
    },
    {
      "cell_type": "code",
      "execution_count": 32,
      "metadata": {
        "id": "SbnF1Gb3qBwU"
      },
      "outputs": [],
      "source": [
        "def compute_derivative_y_forward(I):\n",
        "    \n",
        "    D = np.zeros(I.shape)\n",
        "    \n",
        "    # ++++++++++++++++++++++++++++++++++++++++++++++++++\n",
        "    # complete the blanks\n",
        "    for x in range(I.shape[0]):\n",
        "      for y in range(I.shape[1]-1):\n",
        "        D[x, y] = I[x, y+1] - I[x, y]\n",
        "    \n",
        "    #Boundary condition에 의해 D[x, -1] = 0\n",
        "    # ++++++++++++++++++++++++++++++++++++++++++++++++++\n",
        "    \n",
        "    return D"
      ]
    },
    {
      "cell_type": "markdown",
      "metadata": {
        "id": "T-lExaqRqBwV"
      },
      "source": [
        "- backward difference : $ I[x, y] - I[x, y-1] $ "
      ]
    },
    {
      "cell_type": "code",
      "execution_count": 33,
      "metadata": {
        "id": "SB4zGKsIqBwV"
      },
      "outputs": [],
      "source": [
        "def compute_derivative_y_backward(I):\n",
        "    \n",
        "    D = np.zeros(I.shape)\n",
        "    \n",
        "    # ++++++++++++++++++++++++++++++++++++++++++++++++++\n",
        "    # complete the blanks\n",
        "    for x in range(I.shape[0]):\n",
        "      for y in range(1, I.shape[1]):\n",
        "        D[x, y] = I[x, y] - I[x, y-1]\n",
        "    \n",
        "    \n",
        "    \n",
        "    #Boundary condition에 의해 D[x, 0] = 0\n",
        "    # ++++++++++++++++++++++++++++++++++++++++++++++++++\n",
        "    \n",
        "    return D"
      ]
    },
    {
      "cell_type": "markdown",
      "metadata": {
        "id": "pYw6g30hqBwW"
      },
      "source": [
        "- central difference : $ \\frac{1}{2} \\left( I[x, y+1] - I[x, y-1] \\right)$ "
      ]
    },
    {
      "cell_type": "code",
      "execution_count": 34,
      "metadata": {
        "id": "1fT7ID7yqBwW"
      },
      "outputs": [],
      "source": [
        "def compute_derivative_y_central(I):\n",
        "    \n",
        "    D = np.zeros(I.shape)\n",
        "    \n",
        "    # ++++++++++++++++++++++++++++++++++++++++++++++++++\n",
        "    # complete the blanks\n",
        "    for x in range(I.shape[0]):\n",
        "      for y in range(1, I.shape[1]-1):\n",
        "        D[x, y] = I[x, y+1] - I[x, y-1]\n",
        "    \n",
        "    \n",
        "    \n",
        "    #Boundary condition에 의해 D[x, -1] = D[x, 0] = 0\n",
        "    # ++++++++++++++++++++++++++++++++++++++++++++++++++\n",
        "    \n",
        "    return D"
      ]
    },
    {
      "cell_type": "markdown",
      "metadata": {
        "id": "O_Al30rhqBwW"
      },
      "source": [
        "## compute the norm of the gradient of the input image "
      ]
    },
    {
      "cell_type": "markdown",
      "metadata": {
        "id": "JMq_iKaDqBwX"
      },
      "source": [
        "- $L_2^2$-norm of the gradient $ \\left( \\frac{\\partial I}{\\partial x}, \\frac{\\partial I}{\\partial y} \\right) $ is defined by $ \\left( \\frac{\\partial I}{\\partial x} \\right)^2 + \\left( \\frac{\\partial I}{\\partial y} \\right)^2 $"
      ]
    },
    {
      "cell_type": "code",
      "execution_count": 35,
      "metadata": {
        "id": "8FV4Ius6qBwX"
      },
      "outputs": [],
      "source": [
        "def compute_norm_gradient_central(I):\n",
        "    \n",
        "    norm_gradient = np.zeros(I.shape)\n",
        "    \n",
        "    # ++++++++++++++++++++++++++++++++++++++++++++++++++\n",
        "    # complete the blanks\n",
        "    x_gradient = np.zeros(I.shape)\n",
        "    y_gradient = np.zeros(I.shape)\n",
        "\n",
        "    for x in range(1, I.shape[0]-1):\n",
        "      for y in range(I.shape[1]):\n",
        "        x_gradient[x, y] = (I[x+1, y] - I[x-1, y])/2\n",
        "\n",
        "    for x in range(I.shape[0]):\n",
        "      for y in range(1, I.shape[1]-1):\n",
        "        y_gradient[x, y] = (I[x, y+1] - I[x, y-1])/2\n",
        "      \n",
        "    for x in range(norm_gradient.shape[0]):\n",
        "      for y in range(norm_gradient.shape[1]):\n",
        "        norm_gradient[x, y] = x_gradient[x, y]**2 + y_gradient[x, y]**2\n",
        "        \n",
        "    #\n",
        "    # ++++++++++++++++++++++++++++++++++++++++++++++++++\n",
        "    \n",
        "    return norm_gradient"
      ]
    },
    {
      "cell_type": "markdown",
      "metadata": {
        "id": "tvVIfM5FqBwX"
      },
      "source": [
        "___"
      ]
    },
    {
      "cell_type": "markdown",
      "metadata": {
        "id": "Pjrie_AJqBwY"
      },
      "source": [
        "___"
      ]
    },
    {
      "cell_type": "markdown",
      "metadata": {
        "id": "bThU02CuqBwY"
      },
      "source": [
        "## functions for presenting the results"
      ]
    },
    {
      "cell_type": "markdown",
      "metadata": {
        "id": "igoG9LkLqBwY"
      },
      "source": [
        "___"
      ]
    },
    {
      "cell_type": "markdown",
      "metadata": {
        "id": "sxRP8tsVqBwZ"
      },
      "source": [
        "___"
      ]
    },
    {
      "cell_type": "code",
      "execution_count": null,
      "metadata": {
        "id": "Ztxj2J1ZqBwZ"
      },
      "outputs": [],
      "source": [
        "def function_result_01():\n",
        "    \n",
        "    plt.figure(figsize=(8,6))\n",
        "    plt.imshow(I0)\n",
        "    plt.show()"
      ]
    },
    {
      "cell_type": "code",
      "execution_count": null,
      "metadata": {
        "id": "PBH90ccZqBwZ"
      },
      "outputs": [],
      "source": [
        "def function_result_02():\n",
        "    \n",
        "    plt.figure(figsize=(8,6))\n",
        "    plt.imshow(I, cmap='gray', vmin=0, vmax=1, interpolation='none')\n",
        "    plt.show()"
      ]
    },
    {
      "cell_type": "code",
      "execution_count": null,
      "metadata": {
        "id": "JfX_wizcqBwa"
      },
      "outputs": [],
      "source": [
        "def function_result_03():\n",
        "\n",
        "    D = compute_derivative_x_forward(I)\n",
        "    \n",
        "    plt.figure(figsize=(8,6))\n",
        "    plt.imshow(D, cmap='gray')\n",
        "    plt.show()"
      ]
    },
    {
      "cell_type": "code",
      "execution_count": null,
      "metadata": {
        "id": "xqROOfevqBwa"
      },
      "outputs": [],
      "source": [
        "def function_result_04():\n",
        "\n",
        "    D = compute_derivative_x_backward(I)\n",
        "    \n",
        "    plt.figure(figsize=(8,6))\n",
        "    plt.imshow(D, cmap='gray')\n",
        "    plt.show()"
      ]
    },
    {
      "cell_type": "code",
      "execution_count": null,
      "metadata": {
        "id": "JZTS5UAKqBwa"
      },
      "outputs": [],
      "source": [
        "def function_result_05():\n",
        "\n",
        "    D = compute_derivative_x_central(I)\n",
        "    \n",
        "    plt.figure(figsize=(8,6))\n",
        "    plt.imshow(D, cmap='gray')\n",
        "    plt.show()"
      ]
    },
    {
      "cell_type": "code",
      "execution_count": null,
      "metadata": {
        "id": "kihLiIA3qBwb"
      },
      "outputs": [],
      "source": [
        "def function_result_06():\n",
        "\n",
        "    D = compute_derivative_y_forward(I)\n",
        "    \n",
        "    plt.figure(figsize=(8,6))\n",
        "    plt.imshow(D, cmap='gray')\n",
        "    plt.show()"
      ]
    },
    {
      "cell_type": "code",
      "execution_count": null,
      "metadata": {
        "id": "-mtEsq9zqBwb"
      },
      "outputs": [],
      "source": [
        "def function_result_07():\n",
        "\n",
        "    D = compute_derivative_y_backward(I)\n",
        "    \n",
        "    plt.figure(figsize=(8,6))\n",
        "    plt.imshow(D, cmap='gray')\n",
        "    plt.show()"
      ]
    },
    {
      "cell_type": "code",
      "execution_count": null,
      "metadata": {
        "id": "n9SXnD9rqBwb"
      },
      "outputs": [],
      "source": [
        "def function_result_08():\n",
        "\n",
        "    D = compute_derivative_y_central(I)\n",
        "    \n",
        "    plt.figure(figsize=(8,6))\n",
        "    plt.imshow(D, cmap='gray')\n",
        "    plt.show()"
      ]
    },
    {
      "cell_type": "code",
      "execution_count": null,
      "metadata": {
        "id": "es3EbS6tqBwb"
      },
      "outputs": [],
      "source": [
        "def function_result_09():\n",
        "\n",
        "    D = compute_norm_gradient_central(I)\n",
        "    \n",
        "    plt.figure(figsize=(8,6))\n",
        "    plt.imshow(D, cmap='gray')\n",
        "    plt.show()"
      ]
    },
    {
      "cell_type": "code",
      "execution_count": null,
      "metadata": {
        "id": "5FevL3j4qBwc"
      },
      "outputs": [],
      "source": [
        "def function_result_10():\n",
        "\n",
        "    D = compute_norm_gradient_central(I)\n",
        "    \n",
        "    plt.figure(figsize=(8,6))\n",
        "    im = plt.imshow(D, cmap=cm.jet, norm=colors.LogNorm())\n",
        "    plt.colorbar(im)\n",
        "    plt.show()"
      ]
    },
    {
      "cell_type": "code",
      "execution_count": null,
      "metadata": {
        "id": "3iU56a_jqBwc"
      },
      "outputs": [],
      "source": [
        "def function_result_11():\n",
        "\n",
        "    D = compute_derivative_x_forward(I)\n",
        "\n",
        "    value1 = D[0, 0]    \n",
        "    value2 = D[-1, -1]    \n",
        "    value3 = D[100, 100]    \n",
        "    value4 = D[200, 200]\n",
        "\n",
        "    print('value1 = ', value1)\n",
        "    print('value2 = ', value2)\n",
        "    print('value3 = ', value3)\n",
        "    print('value4 = ', value4)\n"
      ]
    },
    {
      "cell_type": "code",
      "execution_count": null,
      "metadata": {
        "id": "P8MwAujTqBwc"
      },
      "outputs": [],
      "source": [
        "def function_result_12():\n",
        "\n",
        "    D = compute_derivative_x_backward(I)\n",
        "\n",
        "    value1 = D[0, 0]    \n",
        "    value2 = D[-1, -1]    \n",
        "    value3 = D[100, 100]    \n",
        "    value4 = D[200, 200]\n",
        "\n",
        "    print('value1 = ', value1)\n",
        "    print('value2 = ', value2)\n",
        "    print('value3 = ', value3)\n",
        "    print('value4 = ', value4)\n"
      ]
    },
    {
      "cell_type": "code",
      "execution_count": null,
      "metadata": {
        "id": "W7NkGOuEqBwc"
      },
      "outputs": [],
      "source": [
        "def function_result_13():\n",
        "\n",
        "    D = compute_derivative_x_central(I)\n",
        "\n",
        "    value1 = D[0, 0]    \n",
        "    value2 = D[-1, -1]    \n",
        "    value3 = D[100, 100]    \n",
        "    value4 = D[200, 200]\n",
        "\n",
        "    print('value1 = ', value1)\n",
        "    print('value2 = ', value2)\n",
        "    print('value3 = ', value3)\n",
        "    print('value4 = ', value4)\n"
      ]
    },
    {
      "cell_type": "code",
      "execution_count": null,
      "metadata": {
        "id": "iXMtyp1hqBwd"
      },
      "outputs": [],
      "source": [
        "def function_result_14():\n",
        "\n",
        "    D = compute_derivative_y_forward(I)\n",
        "\n",
        "    value1 = D[0, 0]    \n",
        "    value2 = D[-1, -1]    \n",
        "    value3 = D[100, 100]    \n",
        "    value4 = D[200, 200]\n",
        "\n",
        "    print('value1 = ', value1)\n",
        "    print('value2 = ', value2)\n",
        "    print('value3 = ', value3)\n",
        "    print('value4 = ', value4)\n"
      ]
    },
    {
      "cell_type": "code",
      "execution_count": null,
      "metadata": {
        "id": "Zm3fNKvJqBwd"
      },
      "outputs": [],
      "source": [
        "def function_result_15():\n",
        "\n",
        "    D = compute_derivative_y_backward(I)\n",
        "\n",
        "    value1 = D[0, 0]    \n",
        "    value2 = D[-1, -1]    \n",
        "    value3 = D[100, 100]    \n",
        "    value4 = D[200, 200]\n",
        "\n",
        "    print('value1 = ', value1)\n",
        "    print('value2 = ', value2)\n",
        "    print('value3 = ', value3)\n",
        "    print('value4 = ', value4)\n"
      ]
    },
    {
      "cell_type": "code",
      "execution_count": null,
      "metadata": {
        "id": "Ft2-_jfKqBwd"
      },
      "outputs": [],
      "source": [
        "def function_result_16():\n",
        "\n",
        "    D = compute_derivative_y_central(I)\n",
        "\n",
        "    value1 = D[0, 0]    \n",
        "    value2 = D[-1, -1]    \n",
        "    value3 = D[100, 100]    \n",
        "    value4 = D[200, 200]\n",
        "\n",
        "    print('value1 = ', value1)\n",
        "    print('value2 = ', value2)\n",
        "    print('value3 = ', value3)\n",
        "    print('value4 = ', value4)\n"
      ]
    },
    {
      "cell_type": "code",
      "execution_count": null,
      "metadata": {
        "id": "VuaRNcO6qBwe"
      },
      "outputs": [],
      "source": [
        "def function_result_17():\n",
        "\n",
        "    D = compute_norm_gradient_central(I)\n",
        "\n",
        "    value1 = D[0, 0]    \n",
        "    value2 = D[-1, -1]    \n",
        "    value3 = D[100, 100]    \n",
        "    value4 = D[200, 200]\n",
        "\n",
        "    print('value1 = ', value1)\n",
        "    print('value2 = ', value2)\n",
        "    print('value3 = ', value3)\n",
        "    print('value4 = ', value4)\n"
      ]
    },
    {
      "cell_type": "markdown",
      "metadata": {
        "id": "x5MHCV6IqBwe"
      },
      "source": [
        "___"
      ]
    },
    {
      "cell_type": "markdown",
      "metadata": {
        "id": "TL29Yjq1qBwe"
      },
      "source": [
        "___"
      ]
    },
    {
      "cell_type": "markdown",
      "metadata": {
        "id": "i6SC-pNbqBwe"
      },
      "source": [
        "# results"
      ]
    },
    {
      "cell_type": "markdown",
      "metadata": {
        "id": "FHaeL31BqBwf"
      },
      "source": [
        "___"
      ]
    },
    {
      "cell_type": "markdown",
      "metadata": {
        "id": "6M4QjlddqBwf"
      },
      "source": [
        "___"
      ]
    },
    {
      "cell_type": "code",
      "execution_count": null,
      "metadata": {
        "id": "Le5qf7p9qBwf"
      },
      "outputs": [],
      "source": [
        "number_result = 17\n",
        "\n",
        "for i in range(number_result):\n",
        "    title = '## [RESULT {:02d}]'.format(i+1)\n",
        "    name_function = 'function_result_{:02d}()'.format(i+1)\n",
        "\n",
        "    print('**************************************************')\n",
        "    print(title)\n",
        "    print('**************************************************')\n",
        "    eval(name_function)"
      ]
    },
    {
      "cell_type": "code",
      "execution_count": null,
      "metadata": {
        "id": "-PoCN7zTqBwf"
      },
      "outputs": [],
      "source": [
        ""
      ]
    }
  ],
  "metadata": {
    "kernelspec": {
      "display_name": "Python 3",
      "language": "python",
      "name": "python3"
    },
    "language_info": {
      "codemirror_mode": {
        "name": "ipython",
        "version": 3
      },
      "file_extension": ".py",
      "mimetype": "text/x-python",
      "name": "python",
      "nbconvert_exporter": "python",
      "pygments_lexer": "ipython3",
      "version": "3.8.8"
    },
    "colab": {
      "name": "assignment_03_1.ipynb",
      "provenance": [],
      "include_colab_link": true
    }
  },
  "nbformat": 4,
  "nbformat_minor": 0
}