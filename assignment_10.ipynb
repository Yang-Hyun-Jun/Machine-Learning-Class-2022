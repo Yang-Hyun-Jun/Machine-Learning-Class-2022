{
  "cells": [
    {
      "cell_type": "markdown",
      "metadata": {
        "id": "view-in-github",
        "colab_type": "text"
      },
      "source": [
        "<a href=\"https://colab.research.google.com/github/Yang-Hyun-Jun/Machine-Learning-2022/blob/master/assignment_10.ipynb\" target=\"_parent\"><img src=\"https://colab.research.google.com/assets/colab-badge.svg\" alt=\"Open In Colab\"/></a>"
      ]
    },
    {
      "cell_type": "markdown",
      "metadata": {
        "id": "EkI32TeOMk8P"
      },
      "source": [
        "# Logistic Regression with non-linear features"
      ]
    },
    {
      "cell_type": "markdown",
      "metadata": {
        "id": "RBjVJ6XuMk8S"
      },
      "source": [
        "## import library"
      ]
    },
    {
      "cell_type": "code",
      "execution_count": 1,
      "metadata": {
        "id": "P_ZnhUDwMk8T"
      },
      "outputs": [],
      "source": [
        "import numpy as np\n",
        "import matplotlib.pyplot as plt\n",
        "import matplotlib.colors as colors\n",
        "from matplotlib import ticker, cm"
      ]
    },
    {
      "cell_type": "markdown",
      "metadata": {
        "id": "jdvw4nE9Mk8U"
      },
      "source": [
        "## load training data"
      ]
    },
    {
      "cell_type": "code",
      "execution_count": 2,
      "metadata": {
        "colab": {
          "base_uri": "https://localhost:8080/"
        },
        "id": "qzuikxJNMk8V",
        "outputId": "47005c1b-732c-4b64-81db-492acdfbff30"
      },
      "outputs": [
        {
          "output_type": "stream",
          "name": "stdout",
          "text": [
            "shape of point in train data =  (500, 2)\n",
            "shape of point in test data =  (500, 2)\n",
            "shape of label in train data =  (500,)\n",
            "shape of label in test data =  (500,)\n",
            "data type of point x in train data =  float64\n",
            "data type of point y in train data =  float64\n",
            "data type of point x in test data =  float64\n",
            "data type of point y in test data =  float64\n"
          ]
        }
      ],
      "source": [
        "fname_data_train    = 'assignment_10_data_train.csv'\n",
        "fname_data_test     = 'assignment_10_data_test.csv'\n",
        "\n",
        "data_train          = np.genfromtxt(fname_data_train, delimiter=',')\n",
        "data_test           = np.genfromtxt(fname_data_test, delimiter=',')\n",
        "\n",
        "number_data_train   = data_train.shape[0]\n",
        "number_data_test    = data_test.shape[0]\n",
        "\n",
        "data_train_point    = data_train[:, 0:2]\n",
        "data_train_point_x  = data_train_point[:, 0]\n",
        "data_train_point_y  = data_train_point[:, 1]\n",
        "data_train_label    = data_train[:, 2]\n",
        "\n",
        "data_test_point     = data_test[:, 0:2]\n",
        "data_test_point_x   = data_test_point[:, 0]\n",
        "data_test_point_y   = data_test_point[:, 1]\n",
        "data_test_label     = data_test[:, 2]\n",
        "\n",
        "data_train_label_class_0    = (data_train_label == 0)\n",
        "data_train_label_class_1    = (data_train_label == 1)\n",
        "\n",
        "data_test_label_class_0     = (data_test_label == 0)\n",
        "data_test_label_class_1     = (data_test_label == 1)\n",
        "\n",
        "data_train_point_x_class_0  = data_train_point_x[data_train_label_class_0]\n",
        "data_train_point_y_class_0  = data_train_point_y[data_train_label_class_0]\n",
        "\n",
        "data_train_point_x_class_1  = data_train_point_x[data_train_label_class_1]\n",
        "data_train_point_y_class_1  = data_train_point_y[data_train_label_class_1]\n",
        "\n",
        "data_test_point_x_class_0   = data_test_point_x[data_test_label_class_0]\n",
        "data_test_point_y_class_0   = data_test_point_y[data_test_label_class_0]\n",
        "\n",
        "data_test_point_x_class_1   = data_test_point_x[data_test_label_class_1]\n",
        "data_test_point_y_class_1   = data_test_point_y[data_test_label_class_1]\n",
        "\n",
        "print('shape of point in train data = ', data_train_point.shape)\n",
        "print('shape of point in test data = ', data_train_point.shape)\n",
        "\n",
        "print('shape of label in train data = ', data_test_label.shape)\n",
        "print('shape of label in test data = ', data_test_label.shape)\n",
        "\n",
        "print('data type of point x in train data = ', data_train_point_x.dtype)\n",
        "print('data type of point y in train data = ', data_train_point_y.dtype)\n",
        "\n",
        "print('data type of point x in test data = ', data_test_point_x.dtype)\n",
        "print('data type of point y in test data = ', data_test_point_y.dtype)\n"
      ]
    },
    {
      "cell_type": "markdown",
      "metadata": {
        "id": "BhGmgoR5Mk8W"
      },
      "source": [
        "## plot the data"
      ]
    },
    {
      "cell_type": "code",
      "execution_count": 3,
      "metadata": {
        "colab": {
          "base_uri": "https://localhost:8080/",
          "height": 585
        },
        "id": "OQrfjMOKMk8X",
        "outputId": "e6da72da-32af-41a8-e858-10407297328c"
      },
      "outputs": [
        {
          "output_type": "display_data",
          "data": {
            "text/plain": [
              "<Figure size 576x576 with 1 Axes>"
            ],
            "image/png": "[encoded data removed]"
          },
          "metadata": {
            "needs_background": "light"
          }
        }
      ],
      "source": [
        "f = plt.figure(figsize=(8,8))   \n",
        "\n",
        "plt.title('points in train data')\n",
        "plt.plot(data_train_point_x_class_0, data_train_point_y_class_0, 'o', color='blue', label='class = 0')\n",
        "plt.plot(data_train_point_x_class_1, data_train_point_y_class_1, 'o', color='red', label='class = 1')\n",
        "plt.axis('equal')\n",
        "plt.legend()\n",
        "plt.tight_layout()\n",
        "plt.show()"
      ]
    },
    {
      "cell_type": "code",
      "execution_count": 4,
      "metadata": {
        "colab": {
          "base_uri": "https://localhost:8080/",
          "height": 585
        },
        "id": "k_uJLLPeMk8X",
        "outputId": "71aa7554-46c7-4498-9a5b-34a5308e60c7"
      },
      "outputs": [
        {
          "output_type": "display_data",
          "data": {
            "text/plain": [
              "<Figure size 576x576 with 1 Axes>"
            ],
            "image/png": "[encoded data removed]"
          },
          "metadata": {
            "needs_background": "light"
          }
        }
      ],
      "source": [
        "f = plt.figure(figsize=(8,8))   \n",
        "\n",
        "plt.title('points in test data')\n",
        "plt.plot(data_test_point_x_class_0, data_test_point_y_class_0, 'o', color='blue', label='class = 0')\n",
        "plt.plot(data_test_point_x_class_1, data_test_point_y_class_1, 'o', color='red', label='class = 1')\n",
        "plt.axis('equal')\n",
        "plt.legend()\n",
        "plt.tight_layout()\n",
        "plt.show()"
      ]
    },
    {
      "cell_type": "markdown",
      "metadata": {
        "id": "HZX1oZfhMk8Y"
      },
      "source": [
        "## define the feature functions"
      ]
    },
    {
      "cell_type": "markdown",
      "metadata": {
        "id": "vd3PjoVUMk8Z"
      },
      "source": [
        "- feature vector is defined by $(1, f_1(x, y), f_2(x, y), \\cdots, f_{k-1}(x, y)) \\in \\mathbb{R}^k$"
      ]
    },
    {
      "cell_type": "code",
      "execution_count": null,
      "metadata": {
        "id": "pDZSJAhpMk8Z"
      },
      "outputs": [],
      "source": [
        "def compute_feature(point):\n",
        "\n",
        "    # ++++++++++++++++++++++++++++++++++++++++++++++++++\n",
        "    # complete the blanks\n",
        "    \n",
        "\n",
        "\n",
        "    #\n",
        "    # ++++++++++++++++++++++++++++++++++++++++++++++++++\n",
        "\n",
        "    return feature"
      ]
    },
    {
      "cell_type": "markdown",
      "metadata": {
        "id": "ZaquHQ9VMk8a"
      },
      "source": [
        "## define the linear regression function"
      ]
    },
    {
      "cell_type": "markdown",
      "metadata": {
        "id": "EiBIVvk3Mk8a"
      },
      "source": [
        "- $\\theta = (\\theta_0, \\theta_1, \\cdots, \\theta_{k-1}) \\in \\mathbb{R}^k$\n",
        "- feature = $(1, f_1(x, y), \\cdots, f_{k-1}(x, y)) \\in \\mathbb{R}^k$"
      ]
    },
    {
      "cell_type": "code",
      "execution_count": null,
      "metadata": {
        "id": "ic55FWPqMk8a"
      },
      "outputs": [],
      "source": [
        "def compute_linear_regression(theta, feature):\n",
        "\n",
        "    # ++++++++++++++++++++++++++++++++++++++++++++++++++\n",
        "    # complete the blanks\n",
        "    #\n",
        "\n",
        "\n",
        "    #\n",
        "    # ++++++++++++++++++++++++++++++++++++++++++++++++++\n",
        "    \n",
        "    return value"
      ]
    },
    {
      "cell_type": "markdown",
      "metadata": {
        "id": "nAXXE4zdMk8b"
      },
      "source": [
        "## define sigmoid function with input"
      ]
    },
    {
      "cell_type": "markdown",
      "metadata": {
        "id": "anT48vs9Mk8b"
      },
      "source": [
        "- $z \\in \\mathbb{R}$"
      ]
    },
    {
      "cell_type": "code",
      "execution_count": 6,
      "metadata": {
        "id": "jm-xA_A5Mk8b"
      },
      "outputs": [],
      "source": [
        "def sigmoid(z):\n",
        "\n",
        "    # ++++++++++++++++++++++++++++++++++++++++++++++++++\n",
        "    # complete the blanks\n",
        "    #\n",
        "    value = 1/(1+np.exp(-z))\n",
        "\n",
        "    #\n",
        "    # ++++++++++++++++++++++++++++++++++++++++++++++++++\n",
        "\n",
        "    return value "
      ]
    },
    {
      "cell_type": "markdown",
      "metadata": {
        "id": "cwDy2MJBMk8c"
      },
      "source": [
        "## define the logistic regression function"
      ]
    },
    {
      "cell_type": "markdown",
      "metadata": {
        "id": "0A-RaZfRMk8c"
      },
      "source": [
        "- $\\theta = (\\theta_0, \\theta_1, \\cdots, \\theta_{k-1}) \\in \\mathbb{R}^k$\n",
        "- feature $= (1, f_1(x, y), \\cdots, f_{k-1}(x, y) \\in \\mathbb{R}^k$"
      ]
    },
    {
      "cell_type": "code",
      "execution_count": null,
      "metadata": {
        "id": "ngWLgdmQMk8c"
      },
      "outputs": [],
      "source": [
        "def compute_logistic_regression(theta, feature):\n",
        "\n",
        "    # ++++++++++++++++++++++++++++++++++++++++++++++++++\n",
        "    # complete the blanks\n",
        "    #\n",
        "\n",
        "\n",
        "    #\n",
        "    # ++++++++++++++++++++++++++++++++++++++++++++++++++\n",
        "\n",
        "    return value"
      ]
    },
    {
      "cell_type": "markdown",
      "metadata": {
        "id": "4t8Ql3LCMk8c"
      },
      "source": [
        "## define the residual function"
      ]
    },
    {
      "cell_type": "markdown",
      "metadata": {
        "id": "QjExTbg0Mk8d"
      },
      "source": [
        "- $\\theta = (\\theta_0, \\theta_1, \\cdots, \\theta_{k-1}) \\in \\mathbb{R}^k$\n",
        "- feature $= (1, f_1(x, y), \\cdots, f_{k-1}(x, y) \\in \\mathbb{R}^k$\n",
        "- label $= l \\in \\{0, 1\\}^k$"
      ]
    },
    {
      "cell_type": "code",
      "execution_count": null,
      "metadata": {
        "id": "grg_NUIsMk8d"
      },
      "outputs": [],
      "source": [
        "def compute_residual(theta, feature, label):\n",
        "\n",
        "    # ++++++++++++++++++++++++++++++++++++++++++++++++++\n",
        "    # complete the blanks\n",
        "    #\n",
        "\n",
        "\n",
        "    #\n",
        "    # ++++++++++++++++++++++++++++++++++++++++++++++++++\n",
        "\n",
        "    return residual"
      ]
    },
    {
      "cell_type": "markdown",
      "metadata": {
        "id": "xXsubPE6Mk8d"
      },
      "source": [
        "## define the loss function for the logistic regression"
      ]
    },
    {
      "cell_type": "markdown",
      "metadata": {
        "id": "aZXXNaanMk8d"
      },
      "source": [
        "- $\\theta = (\\theta_0, \\theta_1, \\cdots, \\theta_{k-1}) \\in \\mathbb{R}^k$\n",
        "- feature $= (1, f_1(x, y), \\cdots, f_{k-1}(x, y) \\in \\mathbb{R}^k$\n",
        "- label $= l \\in \\{0, 1\\}^k$"
      ]
    },
    {
      "cell_type": "code",
      "execution_count": null,
      "metadata": {
        "id": "VflrGDsUMk8d"
      },
      "outputs": [],
      "source": [
        "def compute_loss(theta, feature, label, alpha):\n",
        "\n",
        "    # ++++++++++++++++++++++++++++++++++++++++++++++++++\n",
        "    # complete the blanks\n",
        "    #\n",
        "\n",
        "\n",
        "    #\n",
        "    # ++++++++++++++++++++++++++++++++++++++++++++++++++\n",
        "\n",
        "    return loss"
      ]
    },
    {
      "cell_type": "markdown",
      "metadata": {
        "id": "4TsxBX6tMk8e"
      },
      "source": [
        "## define the gradient of the loss with respect to the model parameter $\\theta$"
      ]
    },
    {
      "cell_type": "markdown",
      "metadata": {
        "id": "AASaHfSTMk8e"
      },
      "source": [
        "- $\\theta = (\\theta_0, \\theta_1, \\cdots, \\theta_{k-1}) \\in \\mathbb{R}^k$\n",
        "- feature $= (1, f_1(x, y), \\cdots, f_{k-1}(x, y) \\in \\mathbb{R}^k$\n",
        "- label $= l \\in \\{0, 1\\}^k$"
      ]
    },
    {
      "cell_type": "code",
      "execution_count": null,
      "metadata": {
        "id": "-GOEx1HqMk8e"
      },
      "outputs": [],
      "source": [
        "def compute_gradient(theta, feature, label, alpha):\n",
        "\n",
        "    # ++++++++++++++++++++++++++++++++++++++++++++++++++\n",
        "    # complete the blanks\n",
        "    #\n",
        "\n",
        "\n",
        "    #\n",
        "    # ++++++++++++++++++++++++++++++++++++++++++++++++++\n",
        "\n",
        "    return gradient"
      ]
    },
    {
      "cell_type": "markdown",
      "metadata": {
        "id": "oucf1egIMk8e"
      },
      "source": [
        "## compute the accuracy of the prediction for point with a given model parameter"
      ]
    },
    {
      "cell_type": "code",
      "execution_count": null,
      "metadata": {
        "id": "0MUxssULMk8e"
      },
      "outputs": [],
      "source": [
        "def compute_accuracy(theta, feature, label):\n",
        "\n",
        "    # ++++++++++++++++++++++++++++++++++++++++++++++++++\n",
        "    # complete the blanks\n",
        "    #\n",
        "\n",
        "\n",
        "    #\n",
        "    # ++++++++++++++++++++++++++++++++++++++++++++++++++\n",
        "\n",
        "    return accuracy"
      ]
    },
    {
      "cell_type": "markdown",
      "metadata": {
        "id": "MeX3E6CZMk8e"
      },
      "source": [
        "## initialize the gradient descent algorithm"
      ]
    },
    {
      "cell_type": "code",
      "execution_count": null,
      "metadata": {
        "tags": [],
        "id": "FFZCiPawMk8e"
      },
      "outputs": [],
      "source": [
        "number_iteration    = 1 # you can change this value as you want \n",
        "learning_rate       = 1 # you can change this value as you want \n",
        "number_feature      = 1 # you can change this value as you want\n",
        "alpha               = 1 # you can change this value as you want\n",
        "\n",
        "theta                       = np.zeros(number_feature)\n",
        "loss_iteration_train        = np.zeros(number_iteration)\n",
        "loss_iteration_test         = np.zeros(number_iteration)\n",
        "accuracy_iteration_train    = np.zeros(number_iteration)\n",
        "accuracy_iteration_test     = np.zeros(number_iteration)"
      ]
    },
    {
      "cell_type": "markdown",
      "metadata": {
        "id": "YNsuohYKMk8f"
      },
      "source": [
        "## run the gradient descent algorithm to optimize the loss function with respect to the model parameter"
      ]
    },
    {
      "cell_type": "code",
      "execution_count": null,
      "metadata": {
        "tags": [
          "outputPrepend"
        ],
        "id": "5S4FFuL5Mk8f"
      },
      "outputs": [],
      "source": [
        "for i in range(number_iteration):\n",
        "\n",
        "    # ++++++++++++++++++++++++++++++++++++++++++++++++++\n",
        "    # complete the blanks\n",
        "    #\n",
        " \n",
        "    theta           = \n",
        "    loss_train      = \n",
        "    loss_test       = \n",
        "    accuracy_train  = \n",
        "    accuracy_test   = \n",
        "\n",
        "    #\n",
        "    # ++++++++++++++++++++++++++++++++++++++++++++++++++\n",
        "\n",
        "    loss_iteration_train[i]     = loss_train\n",
        "    loss_iteration_test[i]      = loss_test\n",
        "    accuracy_iteration_train[i] = accuracy_train\n",
        "    accuracy_iteration_test[i]  = accuracy_test\n",
        "\n",
        "theta_optimal = theta"
      ]
    },
    {
      "cell_type": "markdown",
      "metadata": {
        "id": "YloGsQa2Mk8f"
      },
      "source": [
        "___"
      ]
    },
    {
      "cell_type": "markdown",
      "metadata": {
        "id": "9odoIDaWMk8f"
      },
      "source": [
        "___"
      ]
    },
    {
      "cell_type": "markdown",
      "metadata": {
        "id": "zrgRPzAnMk8f"
      },
      "source": [
        "## functions for presenting the results"
      ]
    },
    {
      "cell_type": "markdown",
      "metadata": {
        "id": "BE7a-JuHMk8g"
      },
      "source": [
        "___"
      ]
    },
    {
      "cell_type": "markdown",
      "metadata": {
        "id": "ymRIc4c9Mk8g"
      },
      "source": [
        "___"
      ]
    },
    {
      "cell_type": "code",
      "execution_count": null,
      "metadata": {
        "id": "N4lKUFRhMk8g"
      },
      "outputs": [],
      "source": [
        "def function_result_01():\n",
        "\n",
        "    print(\"final training accuracy = {:13.10f}\".format(accuracy_iteration_train[-1]))"
      ]
    },
    {
      "cell_type": "code",
      "execution_count": null,
      "metadata": {
        "id": "VdjpxSiVMk8g"
      },
      "outputs": [],
      "source": [
        "def function_result_02():\n",
        "\n",
        "    print(\"final testing accuracy = {:13.10f}\".format(accuracy_iteration_test[-1]))"
      ]
    },
    {
      "cell_type": "code",
      "execution_count": null,
      "metadata": {
        "id": "eWKzuwIiMk8g"
      },
      "outputs": [],
      "source": [
        "def function_result_03():\n",
        "    \n",
        "    plt.figure(figsize=(8,6))\n",
        "    plt.title('training loss')\n",
        "\n",
        "    plt.plot(loss_iteration_train, '-', color='red')\n",
        "    plt.xlabel('iteration')\n",
        "    plt.ylabel('loss')\n",
        "\n",
        "    plt.tight_layout()\n",
        "    plt.show()"
      ]
    },
    {
      "cell_type": "code",
      "execution_count": null,
      "metadata": {
        "id": "o9M8kvZwMk8g"
      },
      "outputs": [],
      "source": [
        "def function_result_04():\n",
        "\n",
        "    plt.figure(figsize=(8,6))\n",
        "    plt.title('testing loss')\n",
        "\n",
        "    plt.plot(loss_iteration_test, '-', color='red')\n",
        "    plt.xlabel('iteration')\n",
        "    plt.ylabel('loss')\n",
        "\n",
        "    plt.tight_layout()\n",
        "    plt.show()"
      ]
    },
    {
      "cell_type": "code",
      "execution_count": null,
      "metadata": {
        "id": "ZWOpoqqWMk8g"
      },
      "outputs": [],
      "source": [
        "def function_result_05():\n",
        "    \n",
        "    plt.figure(figsize=(8,6))\n",
        "    plt.title('training accuracy')\n",
        "\n",
        "    plt.plot(accuracy_iteration_train, '-', color='red')\n",
        "    plt.xlabel('iteration')\n",
        "    plt.ylabel('accuracy')\n",
        "\n",
        "    plt.tight_layout()\n",
        "    plt.show()"
      ]
    },
    {
      "cell_type": "code",
      "execution_count": null,
      "metadata": {
        "id": "F97Irl-2Mk8h"
      },
      "outputs": [],
      "source": [
        "def function_result_06():\n",
        "    \n",
        "    plt.figure(figsize=(8,6))\n",
        "    plt.title('testing accuracy')\n",
        "\n",
        "    plt.plot(accuracy_iteration_test, '-', color='red')\n",
        "    plt.xlabel('iteration')\n",
        "    plt.ylabel('accuracy')\n",
        "\n",
        "    plt.tight_layout()\n",
        "    plt.show()"
      ]
    },
    {
      "cell_type": "markdown",
      "metadata": {
        "id": "f5hWNcu9Mk8h"
      },
      "source": [
        "## plot the linear regression values over the 2-dimensional Euclidean space and superimpose the training data"
      ]
    },
    {
      "cell_type": "code",
      "execution_count": null,
      "metadata": {
        "id": "AWkrR87aMk8h"
      },
      "outputs": [],
      "source": [
        "def function_result_07():\n",
        "\n",
        "    plt.figure(figsize=(8,8)) \n",
        "    plt.title('linear regression values on the training data')\n",
        "    \n",
        "    min_x   = np.min(data_train_point_x)\n",
        "    max_x   = np.max(data_train_point_x)\n",
        "    min_y   = np.min(data_train_point_y)\n",
        "    max_y   = np.max(data_train_point_y)\n",
        "\n",
        "    X = np.arange(min_x - 0.5, max_x + 0.5, 0.1) \n",
        "    Y = np.arange(min_y - 0.5, max_y + 0.5, 0.1) \n",
        "\n",
        "    [XX, YY] = np.meshgrid(X, Y)\n",
        "\n",
        "    # ++++++++++++++++++++++++++++++++++++++++++++++++++\n",
        "    # complete the blanks\n",
        "    #\n",
        "\n",
        "\n",
        "\n",
        "    #\n",
        "    # ++++++++++++++++++++++++++++++++++++++++++++++++++\n",
        "\n",
        "    plt.plot(data_train_point_x_class_0, data_train_point_y_class_0, '.', color='blue', label='class = 0')\n",
        "    plt.plot(data_train_point_x_class_1, data_train_point_y_class_1, '.', color='red', label='class = 1')\n",
        "\n",
        "    plt.legend()\n",
        "    plt.tight_layout()\n",
        "    plt.show()"
      ]
    },
    {
      "cell_type": "code",
      "execution_count": null,
      "metadata": {
        "id": "D6awRsvxMk8h"
      },
      "outputs": [],
      "source": [
        "def function_result_08():\n",
        "    \n",
        "    plt.figure(figsize=(8,8)) \n",
        "    plt.title('linear regression values on the testing data')\n",
        "    \n",
        "    min_x   = np.min(data_test_point_x)\n",
        "    max_x   = np.max(data_test_point_x)\n",
        "    min_y   = np.min(data_test_point_y)\n",
        "    max_y   = np.max(data_test_point_y)\n",
        "\n",
        "    X = np.arange(min_x - 0.5, max_x + 0.5, 0.1)\n",
        "    Y = np.arange(min_y - 0.5, max_y + 0.5, 0.1) \n",
        "\n",
        "    [XX, YY] = np.meshgrid(X, Y)\n",
        "\n",
        "    # ++++++++++++++++++++++++++++++++++++++++++++++++++\n",
        "    # complete the blanks\n",
        "    #\n",
        "\n",
        "\n",
        "\n",
        "    #\n",
        "    # ++++++++++++++++++++++++++++++++++++++++++++++++++\n",
        "\n",
        "    plt.plot(data_test_point_x_class_0, data_test_point_y_class_0, '.', color='blue', label='class = 0')\n",
        "    plt.plot(data_test_point_x_class_1, data_test_point_y_class_1, '.', color='red', label='class = 1')\n",
        "\n",
        "    plt.legend()\n",
        "    plt.tight_layout()\n",
        "    plt.show()"
      ]
    },
    {
      "cell_type": "markdown",
      "metadata": {
        "id": "JX00L3SOMk8h"
      },
      "source": [
        "## plot the logistic regression values over the 2-dimensional Euclidean space"
      ]
    },
    {
      "cell_type": "code",
      "execution_count": null,
      "metadata": {
        "id": "_up3kEfwMk8h"
      },
      "outputs": [],
      "source": [
        "def function_result_09():\n",
        "\n",
        "    plt.figure(figsize=(8,8)) \n",
        "    plt.title('logistic regression values on the training data')\n",
        "    \n",
        "    min_x   = np.min(data_train_point_x)\n",
        "    max_x   = np.max(data_train_point_x)\n",
        "    min_y   = np.min(data_train_point_y)\n",
        "    max_y   = np.max(data_train_point_y)\n",
        "\n",
        "    X = np.arange(min_x - 0.5, max_x + 0.5, 0.1) \n",
        "    Y = np.arange(min_y - 0.5, max_y + 0.5, 0.1) \n",
        "\n",
        "    [XX, YY] = np.meshgrid(X, Y)\n",
        "\n",
        "    # ++++++++++++++++++++++++++++++++++++++++++++++++++\n",
        "    # complete the blanks\n",
        "    #\n",
        "\n",
        "\n",
        "\n",
        "    #\n",
        "    # ++++++++++++++++++++++++++++++++++++++++++++++++++\n",
        "\n",
        "\n",
        "    plt.plot(data_train_point_x_class_0, data_train_point_y_class_0, '.', color='blue', label='class = 0')\n",
        "    plt.plot(data_train_point_x_class_1, data_train_point_y_class_1, '.', color='red', label='class = 1')\n",
        "\n",
        "    plt.legend()\n",
        "    plt.tight_layout()\n",
        "    plt.show()"
      ]
    },
    {
      "cell_type": "code",
      "execution_count": null,
      "metadata": {
        "id": "8E3nyr8NMk8i"
      },
      "outputs": [],
      "source": [
        "def function_result_10():\n",
        "    \n",
        "    plt.figure(figsize=(8,8)) \n",
        "    plt.title('logistic regression values on the testing data')\n",
        "\n",
        "    min_x   = np.min(data_test_point_x)\n",
        "    max_x   = np.max(data_test_point_x)\n",
        "    min_y   = np.min(data_test_point_y)\n",
        "    max_y   = np.max(data_test_point_y)\n",
        "\n",
        "    X = np.arange(min_x - 0.5, max_x + 0.5, 0.1) \n",
        "    Y = np.arange(min_y - 0.5, max_y + 0.5, 0.1) \n",
        "\n",
        "    [XX, YY] = np.meshgrid(X, Y)\n",
        "\n",
        "    # ++++++++++++++++++++++++++++++++++++++++++++++++++\n",
        "    # complete the blanks\n",
        "    #\n",
        "\n",
        "\n",
        "\n",
        "    #\n",
        "    # ++++++++++++++++++++++++++++++++++++++++++++++++++\n",
        "\n",
        "\n",
        "    plt.plot(data_test_point_x_class_0, data_test_point_y_class_0, '.', color='blue', label='class = 0')\n",
        "    plt.plot(data_test_point_x_class_1, data_test_point_y_class_1, '.', color='red', label='class = 1')\n",
        "\n",
        "    plt.legend()\n",
        "    plt.tight_layout()\n",
        "    plt.show()"
      ]
    },
    {
      "cell_type": "markdown",
      "metadata": {
        "id": "_7hshPBMMk8i"
      },
      "source": [
        "___"
      ]
    },
    {
      "cell_type": "markdown",
      "metadata": {
        "id": "0BXBeTHCMk8i"
      },
      "source": [
        "___"
      ]
    },
    {
      "cell_type": "markdown",
      "metadata": {
        "id": "rm9Bjie2Mk8i"
      },
      "source": [
        "## results"
      ]
    },
    {
      "cell_type": "markdown",
      "metadata": {
        "id": "R61Hjy1iMk8i"
      },
      "source": [
        "___"
      ]
    },
    {
      "cell_type": "markdown",
      "metadata": {
        "id": "CTdtfas3Mk8i"
      },
      "source": [
        "___"
      ]
    },
    {
      "cell_type": "code",
      "execution_count": null,
      "metadata": {
        "id": "FgrLQ_7AMk8j"
      },
      "outputs": [],
      "source": [
        "number_result = 10\n",
        "\n",
        "for i in range(number_result):\n",
        "    title = '## [RESULT {:02d}]'.format(i+1)\n",
        "    name_function = 'function_result_{:02d}()'.format(i+1)\n",
        "\n",
        "    print('**************************************************')\n",
        "    print(title)\n",
        "    print('**************************************************')\n",
        "    eval(name_function)"
      ]
    },
    {
      "cell_type": "code",
      "execution_count": null,
      "metadata": {
        "id": "oGQcWwxJMk8j"
      },
      "outputs": [],
      "source": [
        ""
      ]
    }
  ],
  "metadata": {
    "interpreter": {
      "hash": "40d3a090f54c6569ab1632332b64b2c03c39dcf918b08424e98f38b5ae0af88f"
    },
    "kernelspec": {
      "display_name": "Python 3.8.5 64-bit (conda)",
      "language": "python",
      "name": "python3"
    },
    "language_info": {
      "codemirror_mode": {
        "name": "ipython",
        "version": 3
      },
      "file_extension": ".py",
      "mimetype": "text/x-python",
      "name": "python",
      "nbconvert_exporter": "python",
      "pygments_lexer": "ipython3",
      "version": "3.8.8"
    },
    "metadata": {
      "interpreter": {
        "hash": "31f2aee4e71d21fbe5cf8b01ff0e069b9275f58929596ceb00d14d90e3e16cd6"
      }
    },
    "colab": {
      "name": "assignment_10.ipynb",
      "provenance": [],
      "collapsed_sections": [],
      "include_colab_link": true
    }
  },
  "nbformat": 4,
  "nbformat_minor": 0
}